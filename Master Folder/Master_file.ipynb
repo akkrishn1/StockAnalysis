{
 "cells": [
  {
   "cell_type": "code",
   "execution_count": 9,
   "id": "f46dc4e9-254f-42c9-8402-91f4b2f81a20",
   "metadata": {},
   "outputs": [],
   "source": [
    "# Initial imports\n",
    "import requests\n",
    "import os\n",
    "import pandas as pd\n",
    "import alpaca_trade_api as tradeapi\n",
    "import matplotlib.pyplot as plt\n",
    "import seaborn as sns\n",
    "from MCForecastTools import MCSimulation\n",
    "import numpy as np\n",
    "import pandas_ta as ta\n",
    "import plotly.graph_objects as go\n",
    "import yfinance as yf\n",
    "\n",
    "%matplotlib inline"
   ]
  },
  {
   "cell_type": "code",
   "execution_count": 10,
   "id": "f48551c6-1892-4f28-ad61-7167da4745dd",
   "metadata": {},
   "outputs": [
    {
     "data": {
      "text/plain": [
       "True"
      ]
     },
     "execution_count": 10,
     "metadata": {},
     "output_type": "execute_result"
    }
   ],
   "source": [
    "from dotenv import load_dotenv\n",
    "load_dotenv()"
   ]
  },
  {
   "cell_type": "code",
   "execution_count": 11,
   "id": "ab205b3a-e8ca-4794-ba01-7ddbe4d3af6c",
   "metadata": {},
   "outputs": [],
   "source": [
    "alpaca_api_key = os.getenv(\"ALPACA_API_KEY\")\n",
    "alpaca_secret_key = os.getenv(\"ALPACA_SECRET_KEY\")\n",
    "\n",
    "# Create the Alpaca API object\n",
    "alpaca = tradeapi.REST(\n",
    "    alpaca_api_key,\n",
    "    alpaca_secret_key,\n",
    "    api_version=\"v2\"\n",
    ")"
   ]
  },
  {
   "cell_type": "code",
   "execution_count": 23,
   "id": "447f05ff-c3d7-4cd4-b3c3-ea511be944a9",
   "metadata": {},
   "outputs": [
    {
     "data": {
      "text/html": [
       "<div>\n",
       "<style scoped>\n",
       "    .dataframe tbody tr th:only-of-type {\n",
       "        vertical-align: middle;\n",
       "    }\n",
       "\n",
       "    .dataframe tbody tr th {\n",
       "        vertical-align: top;\n",
       "    }\n",
       "\n",
       "    .dataframe thead tr th {\n",
       "        text-align: left;\n",
       "    }\n",
       "\n",
       "    .dataframe thead tr:last-of-type th {\n",
       "        text-align: right;\n",
       "    }\n",
       "</style>\n",
       "<table border=\"1\" class=\"dataframe\">\n",
       "  <thead>\n",
       "    <tr>\n",
       "      <th></th>\n",
       "      <th colspan=\"5\" halign=\"left\">BABA</th>\n",
       "      <th colspan=\"5\" halign=\"left\">DIS</th>\n",
       "      <th>...</th>\n",
       "      <th colspan=\"5\" halign=\"left\">SPY</th>\n",
       "      <th colspan=\"5\" halign=\"left\">TSLA</th>\n",
       "    </tr>\n",
       "    <tr>\n",
       "      <th></th>\n",
       "      <th>open</th>\n",
       "      <th>high</th>\n",
       "      <th>low</th>\n",
       "      <th>close</th>\n",
       "      <th>volume</th>\n",
       "      <th>open</th>\n",
       "      <th>high</th>\n",
       "      <th>low</th>\n",
       "      <th>close</th>\n",
       "      <th>volume</th>\n",
       "      <th>...</th>\n",
       "      <th>open</th>\n",
       "      <th>high</th>\n",
       "      <th>low</th>\n",
       "      <th>close</th>\n",
       "      <th>volume</th>\n",
       "      <th>open</th>\n",
       "      <th>high</th>\n",
       "      <th>low</th>\n",
       "      <th>close</th>\n",
       "      <th>volume</th>\n",
       "    </tr>\n",
       "    <tr>\n",
       "      <th>time</th>\n",
       "      <th></th>\n",
       "      <th></th>\n",
       "      <th></th>\n",
       "      <th></th>\n",
       "      <th></th>\n",
       "      <th></th>\n",
       "      <th></th>\n",
       "      <th></th>\n",
       "      <th></th>\n",
       "      <th></th>\n",
       "      <th></th>\n",
       "      <th></th>\n",
       "      <th></th>\n",
       "      <th></th>\n",
       "      <th></th>\n",
       "      <th></th>\n",
       "      <th></th>\n",
       "      <th></th>\n",
       "      <th></th>\n",
       "      <th></th>\n",
       "      <th></th>\n",
       "    </tr>\n",
       "  </thead>\n",
       "  <tbody>\n",
       "    <tr>\n",
       "      <th>2017-06-05 04:00:00+00:00</th>\n",
       "      <td>124.00</td>\n",
       "      <td>125.560</td>\n",
       "      <td>123.87</td>\n",
       "      <td>125.37</td>\n",
       "      <td>8021032</td>\n",
       "      <td>104.63</td>\n",
       "      <td>106.875</td>\n",
       "      <td>103.720</td>\n",
       "      <td>106.51</td>\n",
       "      <td>5302320</td>\n",
       "      <td>...</td>\n",
       "      <td>243.98</td>\n",
       "      <td>244.30</td>\n",
       "      <td>243.7600</td>\n",
       "      <td>243.965</td>\n",
       "      <td>27596403</td>\n",
       "      <td>338.500</td>\n",
       "      <td>348.4400</td>\n",
       "      <td>334.21</td>\n",
       "      <td>347.3200</td>\n",
       "      <td>5684288</td>\n",
       "    </tr>\n",
       "    <tr>\n",
       "      <th>2017-06-06 04:00:00+00:00</th>\n",
       "      <td>125.60</td>\n",
       "      <td>126.200</td>\n",
       "      <td>124.27</td>\n",
       "      <td>124.63</td>\n",
       "      <td>7974948</td>\n",
       "      <td>106.17</td>\n",
       "      <td>106.190</td>\n",
       "      <td>104.610</td>\n",
       "      <td>105.51</td>\n",
       "      <td>8287158</td>\n",
       "      <td>...</td>\n",
       "      <td>243.31</td>\n",
       "      <td>243.98</td>\n",
       "      <td>243.1200</td>\n",
       "      <td>243.250</td>\n",
       "      <td>36562468</td>\n",
       "      <td>344.950</td>\n",
       "      <td>359.4929</td>\n",
       "      <td>344.66</td>\n",
       "      <td>352.8000</td>\n",
       "      <td>9465968</td>\n",
       "    </tr>\n",
       "    <tr>\n",
       "      <th>2017-06-07 04:00:00+00:00</th>\n",
       "      <td>125.08</td>\n",
       "      <td>125.910</td>\n",
       "      <td>124.11</td>\n",
       "      <td>125.67</td>\n",
       "      <td>7319114</td>\n",
       "      <td>105.79</td>\n",
       "      <td>106.250</td>\n",
       "      <td>103.430</td>\n",
       "      <td>103.52</td>\n",
       "      <td>4621500</td>\n",
       "      <td>...</td>\n",
       "      <td>243.60</td>\n",
       "      <td>243.92</td>\n",
       "      <td>242.8300</td>\n",
       "      <td>243.650</td>\n",
       "      <td>38602639</td>\n",
       "      <td>356.300</td>\n",
       "      <td>360.5000</td>\n",
       "      <td>355.14</td>\n",
       "      <td>359.5500</td>\n",
       "      <td>7850542</td>\n",
       "    </tr>\n",
       "    <tr>\n",
       "      <th>2017-06-08 04:00:00+00:00</th>\n",
       "      <td>142.51</td>\n",
       "      <td>143.700</td>\n",
       "      <td>135.21</td>\n",
       "      <td>142.38</td>\n",
       "      <td>62224198</td>\n",
       "      <td>103.19</td>\n",
       "      <td>104.490</td>\n",
       "      <td>101.800</td>\n",
       "      <td>104.32</td>\n",
       "      <td>8839933</td>\n",
       "      <td>...</td>\n",
       "      <td>243.77</td>\n",
       "      <td>244.33</td>\n",
       "      <td>243.1700</td>\n",
       "      <td>243.760</td>\n",
       "      <td>48051333</td>\n",
       "      <td>363.750</td>\n",
       "      <td>371.9000</td>\n",
       "      <td>360.22</td>\n",
       "      <td>370.0100</td>\n",
       "      <td>7489685</td>\n",
       "    </tr>\n",
       "    <tr>\n",
       "      <th>2017-06-09 04:00:00+00:00</th>\n",
       "      <td>144.57</td>\n",
       "      <td>148.290</td>\n",
       "      <td>137.01</td>\n",
       "      <td>139.36</td>\n",
       "      <td>46078639</td>\n",
       "      <td>104.29</td>\n",
       "      <td>105.920</td>\n",
       "      <td>104.080</td>\n",
       "      <td>105.62</td>\n",
       "      <td>7628117</td>\n",
       "      <td>...</td>\n",
       "      <td>244.09</td>\n",
       "      <td>245.01</td>\n",
       "      <td>241.9500</td>\n",
       "      <td>243.450</td>\n",
       "      <td>103578275</td>\n",
       "      <td>374.420</td>\n",
       "      <td>376.8700</td>\n",
       "      <td>354.80</td>\n",
       "      <td>357.4500</td>\n",
       "      <td>14323526</td>\n",
       "    </tr>\n",
       "    <tr>\n",
       "      <th>2017-06-12 04:00:00+00:00</th>\n",
       "      <td>139.28</td>\n",
       "      <td>142.200</td>\n",
       "      <td>136.05</td>\n",
       "      <td>139.10</td>\n",
       "      <td>27531987</td>\n",
       "      <td>105.89</td>\n",
       "      <td>107.080</td>\n",
       "      <td>103.690</td>\n",
       "      <td>107.05</td>\n",
       "      <td>6753315</td>\n",
       "      <td>...</td>\n",
       "      <td>243.14</td>\n",
       "      <td>243.42</td>\n",
       "      <td>242.3800</td>\n",
       "      <td>243.340</td>\n",
       "      <td>57096569</td>\n",
       "      <td>357.990</td>\n",
       "      <td>364.5000</td>\n",
       "      <td>350.62</td>\n",
       "      <td>358.9900</td>\n",
       "      <td>8528936</td>\n",
       "    </tr>\n",
       "    <tr>\n",
       "      <th>2017-06-13 04:00:00+00:00</th>\n",
       "      <td>141.81</td>\n",
       "      <td>142.244</td>\n",
       "      <td>135.90</td>\n",
       "      <td>136.45</td>\n",
       "      <td>33762441</td>\n",
       "      <td>107.14</td>\n",
       "      <td>107.260</td>\n",
       "      <td>104.000</td>\n",
       "      <td>104.15</td>\n",
       "      <td>3788305</td>\n",
       "      <td>...</td>\n",
       "      <td>243.99</td>\n",
       "      <td>244.61</td>\n",
       "      <td>243.5799</td>\n",
       "      <td>244.520</td>\n",
       "      <td>43470532</td>\n",
       "      <td>367.670</td>\n",
       "      <td>376.0000</td>\n",
       "      <td>366.61</td>\n",
       "      <td>375.9500</td>\n",
       "      <td>9720070</td>\n",
       "    </tr>\n",
       "    <tr>\n",
       "      <th>2017-06-14 04:00:00+00:00</th>\n",
       "      <td>137.80</td>\n",
       "      <td>139.250</td>\n",
       "      <td>135.26</td>\n",
       "      <td>136.68</td>\n",
       "      <td>25584146</td>\n",
       "      <td>104.53</td>\n",
       "      <td>104.590</td>\n",
       "      <td>103.370</td>\n",
       "      <td>103.74</td>\n",
       "      <td>3483352</td>\n",
       "      <td>...</td>\n",
       "      <td>244.86</td>\n",
       "      <td>244.87</td>\n",
       "      <td>243.2900</td>\n",
       "      <td>244.260</td>\n",
       "      <td>55098826</td>\n",
       "      <td>381.085</td>\n",
       "      <td>384.2500</td>\n",
       "      <td>376.31</td>\n",
       "      <td>380.6599</td>\n",
       "      <td>10303555</td>\n",
       "    </tr>\n",
       "    <tr>\n",
       "      <th>2017-06-15 04:00:00+00:00</th>\n",
       "      <td>135.64</td>\n",
       "      <td>135.670</td>\n",
       "      <td>133.10</td>\n",
       "      <td>135.01</td>\n",
       "      <td>25781627</td>\n",
       "      <td>103.47</td>\n",
       "      <td>106.070</td>\n",
       "      <td>102.880</td>\n",
       "      <td>105.95</td>\n",
       "      <td>3685768</td>\n",
       "      <td>...</td>\n",
       "      <td>242.68</td>\n",
       "      <td>243.91</td>\n",
       "      <td>242.3600</td>\n",
       "      <td>243.790</td>\n",
       "      <td>51523068</td>\n",
       "      <td>372.500</td>\n",
       "      <td>375.4600</td>\n",
       "      <td>366.49</td>\n",
       "      <td>375.3400</td>\n",
       "      <td>8585072</td>\n",
       "    </tr>\n",
       "    <tr>\n",
       "      <th>2017-06-16 04:00:00+00:00</th>\n",
       "      <td>136.28</td>\n",
       "      <td>136.500</td>\n",
       "      <td>133.55</td>\n",
       "      <td>134.90</td>\n",
       "      <td>29647562</td>\n",
       "      <td>106.28</td>\n",
       "      <td>106.350</td>\n",
       "      <td>104.765</td>\n",
       "      <td>105.53</td>\n",
       "      <td>5951970</td>\n",
       "      <td>...</td>\n",
       "      <td>242.77</td>\n",
       "      <td>242.83</td>\n",
       "      <td>241.6337</td>\n",
       "      <td>242.630</td>\n",
       "      <td>48998243</td>\n",
       "      <td>377.780</td>\n",
       "      <td>378.0100</td>\n",
       "      <td>370.10</td>\n",
       "      <td>371.4000</td>\n",
       "      <td>4691654</td>\n",
       "    </tr>\n",
       "  </tbody>\n",
       "</table>\n",
       "<p>10 rows × 25 columns</p>\n",
       "</div>"
      ],
      "text/plain": [
       "                             BABA                                        DIS  \\\n",
       "                             open     high     low   close    volume    open   \n",
       "time                                                                           \n",
       "2017-06-05 04:00:00+00:00  124.00  125.560  123.87  125.37   8021032  104.63   \n",
       "2017-06-06 04:00:00+00:00  125.60  126.200  124.27  124.63   7974948  106.17   \n",
       "2017-06-07 04:00:00+00:00  125.08  125.910  124.11  125.67   7319114  105.79   \n",
       "2017-06-08 04:00:00+00:00  142.51  143.700  135.21  142.38  62224198  103.19   \n",
       "2017-06-09 04:00:00+00:00  144.57  148.290  137.01  139.36  46078639  104.29   \n",
       "2017-06-12 04:00:00+00:00  139.28  142.200  136.05  139.10  27531987  105.89   \n",
       "2017-06-13 04:00:00+00:00  141.81  142.244  135.90  136.45  33762441  107.14   \n",
       "2017-06-14 04:00:00+00:00  137.80  139.250  135.26  136.68  25584146  104.53   \n",
       "2017-06-15 04:00:00+00:00  135.64  135.670  133.10  135.01  25781627  103.47   \n",
       "2017-06-16 04:00:00+00:00  136.28  136.500  133.55  134.90  29647562  106.28   \n",
       "\n",
       "                                                              ...     SPY  \\\n",
       "                              high      low   close   volume  ...    open   \n",
       "time                                                          ...           \n",
       "2017-06-05 04:00:00+00:00  106.875  103.720  106.51  5302320  ...  243.98   \n",
       "2017-06-06 04:00:00+00:00  106.190  104.610  105.51  8287158  ...  243.31   \n",
       "2017-06-07 04:00:00+00:00  106.250  103.430  103.52  4621500  ...  243.60   \n",
       "2017-06-08 04:00:00+00:00  104.490  101.800  104.32  8839933  ...  243.77   \n",
       "2017-06-09 04:00:00+00:00  105.920  104.080  105.62  7628117  ...  244.09   \n",
       "2017-06-12 04:00:00+00:00  107.080  103.690  107.05  6753315  ...  243.14   \n",
       "2017-06-13 04:00:00+00:00  107.260  104.000  104.15  3788305  ...  243.99   \n",
       "2017-06-14 04:00:00+00:00  104.590  103.370  103.74  3483352  ...  244.86   \n",
       "2017-06-15 04:00:00+00:00  106.070  102.880  105.95  3685768  ...  242.68   \n",
       "2017-06-16 04:00:00+00:00  106.350  104.765  105.53  5951970  ...  242.77   \n",
       "\n",
       "                                                                    TSLA  \\\n",
       "                             high       low    close     volume     open   \n",
       "time                                                                       \n",
       "2017-06-05 04:00:00+00:00  244.30  243.7600  243.965   27596403  338.500   \n",
       "2017-06-06 04:00:00+00:00  243.98  243.1200  243.250   36562468  344.950   \n",
       "2017-06-07 04:00:00+00:00  243.92  242.8300  243.650   38602639  356.300   \n",
       "2017-06-08 04:00:00+00:00  244.33  243.1700  243.760   48051333  363.750   \n",
       "2017-06-09 04:00:00+00:00  245.01  241.9500  243.450  103578275  374.420   \n",
       "2017-06-12 04:00:00+00:00  243.42  242.3800  243.340   57096569  357.990   \n",
       "2017-06-13 04:00:00+00:00  244.61  243.5799  244.520   43470532  367.670   \n",
       "2017-06-14 04:00:00+00:00  244.87  243.2900  244.260   55098826  381.085   \n",
       "2017-06-15 04:00:00+00:00  243.91  242.3600  243.790   51523068  372.500   \n",
       "2017-06-16 04:00:00+00:00  242.83  241.6337  242.630   48998243  377.780   \n",
       "\n",
       "                                                                 \n",
       "                               high     low     close    volume  \n",
       "time                                                             \n",
       "2017-06-05 04:00:00+00:00  348.4400  334.21  347.3200   5684288  \n",
       "2017-06-06 04:00:00+00:00  359.4929  344.66  352.8000   9465968  \n",
       "2017-06-07 04:00:00+00:00  360.5000  355.14  359.5500   7850542  \n",
       "2017-06-08 04:00:00+00:00  371.9000  360.22  370.0100   7489685  \n",
       "2017-06-09 04:00:00+00:00  376.8700  354.80  357.4500  14323526  \n",
       "2017-06-12 04:00:00+00:00  364.5000  350.62  358.9900   8528936  \n",
       "2017-06-13 04:00:00+00:00  376.0000  366.61  375.9500   9720070  \n",
       "2017-06-14 04:00:00+00:00  384.2500  376.31  380.6599  10303555  \n",
       "2017-06-15 04:00:00+00:00  375.4600  366.49  375.3400   8585072  \n",
       "2017-06-16 04:00:00+00:00  378.0100  370.10  371.4000   4691654  \n",
       "\n",
       "[10 rows x 25 columns]"
      ]
     },
     "execution_count": 23,
     "metadata": {},
     "output_type": "execute_result"
    }
   ],
   "source": [
    "# Tickers\n",
    "ticker = [\"BABA\", \"DIS\", \"TSLA\", \"ETHE\", \"SPY\"]\n",
    "\n",
    "# set timeframe to '1D'\n",
    "\n",
    "timeframe = \"1D\"\n",
    "\n",
    "\n",
    "# Set start and end datetimes of 5 years\n",
    "start_date = pd.Timestamp(\"2016-05-24\", tz=\"America/New_York\").isoformat()\n",
    "end_date = pd.Timestamp(\"2021-05-24\", tz=\"America/New_York\").isoformat()\n",
    "\n",
    "\n",
    "# Get 5 year's worth of historical data \n",
    "all_stocks = alpaca.get_barset(\n",
    "    ticker,\n",
    "    timeframe,\n",
    "    start=start_date,\n",
    "    end=end_date,\n",
    "    limit=1000,\n",
    ").df\n",
    "\n",
    "# # Display sample data\n",
    "all_stocks.head(10)"
   ]
  },
  {
   "cell_type": "code",
   "execution_count": 19,
   "id": "f2ac9a75-cd5e-48a9-b278-478a1d62f495",
   "metadata": {},
   "outputs": [],
   "source": [
    "all_stocks_df = all_stocks.dropna()"
   ]
  },
  {
   "cell_type": "code",
   "execution_count": 22,
   "id": "0d3718d5-1740-4fe2-8054-2ae8e16f4abf",
   "metadata": {},
   "outputs": [
    {
     "data": {
      "text/html": [
       "<div>\n",
       "<style scoped>\n",
       "    .dataframe tbody tr th:only-of-type {\n",
       "        vertical-align: middle;\n",
       "    }\n",
       "\n",
       "    .dataframe tbody tr th {\n",
       "        vertical-align: top;\n",
       "    }\n",
       "\n",
       "    .dataframe thead th {\n",
       "        text-align: right;\n",
       "    }\n",
       "</style>\n",
       "<table border=\"1\" class=\"dataframe\">\n",
       "  <thead>\n",
       "    <tr style=\"text-align: right;\">\n",
       "      <th></th>\n",
       "      <th>BABA</th>\n",
       "      <th>SPY</th>\n",
       "      <th>DIS</th>\n",
       "      <th>ETHE</th>\n",
       "    </tr>\n",
       "  </thead>\n",
       "  <tbody>\n",
       "  </tbody>\n",
       "</table>\n",
       "</div>"
      ],
      "text/plain": [
       "Empty DataFrame\n",
       "Columns: [BABA, SPY, DIS, ETHE]\n",
       "Index: []"
      ]
     },
     "execution_count": 22,
     "metadata": {},
     "output_type": "execute_result"
    }
   ],
   "source": [
    "# Create and empty DataFrame for closing prices\n",
    "all_closing_prices = pd.DataFrame()\n",
    "\n",
    "# Fetch the closing prices \n",
    "all_closing_prices[\"BABA\"] = all_stocks[\"BABA\"][\"close\"]\n",
    "all_closing_prices[\"SPY\"] = all_stocks[\"SPY\"][\"close\"]\n",
    "all_closing_prices[\"DIS\"] = all_stocks[\"DIS\"][\"close\"]\n",
    "#all_closing_prices[\"ETHE\"] = all_stocks[\"ETHE\"][\"close\"]\n",
    "\n",
    "# Drop the time component of the date\n",
    "all_closing_prices.index = all_closing_prices.index.date\n",
    "\n",
    "# Compute daily returns\n",
    "all_returns = all_closing_prices.pct_change().dropna()\n",
    "all_returns.tail()"
   ]
  },
  {
   "cell_type": "code",
   "execution_count": 17,
   "id": "5c53dd1c-87a1-4205-9de6-1364efddb0d4",
   "metadata": {},
   "outputs": [
    {
     "ename": "NameError",
     "evalue": "name 'all_returns' is not defined",
     "output_type": "error",
     "traceback": [
      "\u001b[0;31m---------------------------------------------------------------------------\u001b[0m",
      "\u001b[0;31mNameError\u001b[0m                                 Traceback (most recent call last)",
      "\u001b[0;32m<ipython-input-17-048377bbc004>\u001b[0m in \u001b[0;36m<module>\u001b[0;34m\u001b[0m\n\u001b[1;32m      1\u001b[0m \u001b[0;31m# Calculate Cumulative Returns\u001b[0m\u001b[0;34m\u001b[0m\u001b[0;34m\u001b[0m\u001b[0;34m\u001b[0m\u001b[0m\n\u001b[0;32m----> 2\u001b[0;31m \u001b[0mall_cumulative_returns\u001b[0m \u001b[0;34m=\u001b[0m \u001b[0;34m(\u001b[0m\u001b[0;36m1\u001b[0m \u001b[0;34m+\u001b[0m \u001b[0mall_returns\u001b[0m\u001b[0;34m)\u001b[0m\u001b[0;34m.\u001b[0m\u001b[0mcumprod\u001b[0m\u001b[0;34m(\u001b[0m\u001b[0;34m)\u001b[0m\u001b[0;34m\u001b[0m\u001b[0;34m\u001b[0m\u001b[0m\n\u001b[0m\u001b[1;32m      3\u001b[0m \u001b[0;34m\u001b[0m\u001b[0m\n\u001b[1;32m      4\u001b[0m \u001b[0;31m# Plot Cummulative Returns\u001b[0m\u001b[0;34m\u001b[0m\u001b[0;34m\u001b[0m\u001b[0;34m\u001b[0m\u001b[0m\n\u001b[1;32m      5\u001b[0m \u001b[0mall_cumulative_returns\u001b[0m\u001b[0;34m.\u001b[0m\u001b[0mplot\u001b[0m\u001b[0;34m(\u001b[0m\u001b[0mtitle\u001b[0m \u001b[0;34m=\u001b[0m \u001b[0;34m'Cumulative Returns'\u001b[0m\u001b[0;34m,\u001b[0m \u001b[0mfigsize\u001b[0m \u001b[0;34m=\u001b[0m \u001b[0;34m(\u001b[0m\u001b[0;36m20\u001b[0m\u001b[0;34m,\u001b[0m\u001b[0;36m10\u001b[0m\u001b[0;34m)\u001b[0m \u001b[0;34m)\u001b[0m\u001b[0;34m\u001b[0m\u001b[0;34m\u001b[0m\u001b[0m\n",
      "\u001b[0;31mNameError\u001b[0m: name 'all_returns' is not defined"
     ]
    }
   ],
   "source": [
    "# Calculate Cumulative Returns\n",
    "all_cumulative_returns = (1 + all_returns).cumprod()\n",
    "\n",
    "# Plot Cummulative Returns\n",
    "all_cumulative_returns.plot(title = 'Cumulative Returns', figsize = (20,10) )"
   ]
  },
  {
   "cell_type": "code",
   "execution_count": 18,
   "id": "ee18bd14-482d-44f3-8438-533c3a882757",
   "metadata": {},
   "outputs": [
    {
     "ename": "NameError",
     "evalue": "name 'all_returns' is not defined",
     "output_type": "error",
     "traceback": [
      "\u001b[0;31m---------------------------------------------------------------------------\u001b[0m",
      "\u001b[0;31mNameError\u001b[0m                                 Traceback (most recent call last)",
      "\u001b[0;32m<ipython-input-18-51c6fdaecffb>\u001b[0m in \u001b[0;36m<module>\u001b[0;34m\u001b[0m\n\u001b[0;32m----> 1\u001b[0;31m \u001b[0mall_returns\u001b[0m\u001b[0;34m.\u001b[0m\u001b[0mplot\u001b[0m\u001b[0;34m.\u001b[0m\u001b[0mdensity\u001b[0m\u001b[0;34m(\u001b[0m\u001b[0;34m)\u001b[0m\u001b[0;34m\u001b[0m\u001b[0;34m\u001b[0m\u001b[0m\n\u001b[0m",
      "\u001b[0;31mNameError\u001b[0m: name 'all_returns' is not defined"
     ]
    }
   ],
   "source": [
    "all_returns.plot.density()"
   ]
  },
  {
   "cell_type": "code",
   "execution_count": 19,
   "id": "6c4f4310-9b90-402e-ba69-e59ced74b0ce",
   "metadata": {},
   "outputs": [
    {
     "ename": "NameError",
     "evalue": "name 'all_returns' is not defined",
     "output_type": "error",
     "traceback": [
      "\u001b[0;31m---------------------------------------------------------------------------\u001b[0m",
      "\u001b[0;31mNameError\u001b[0m                                 Traceback (most recent call last)",
      "\u001b[0;32m<ipython-input-19-9a67e0c3b3e7>\u001b[0m in \u001b[0;36m<module>\u001b[0;34m\u001b[0m\n\u001b[1;32m      1\u001b[0m \u001b[0;31m# Calculate Standard Deviation\u001b[0m\u001b[0;34m\u001b[0m\u001b[0;34m\u001b[0m\u001b[0;34m\u001b[0m\u001b[0m\n\u001b[0;32m----> 2\u001b[0;31m \u001b[0mall_std\u001b[0m \u001b[0;34m=\u001b[0m \u001b[0mall_returns\u001b[0m\u001b[0;34m.\u001b[0m\u001b[0mstd\u001b[0m\u001b[0;34m(\u001b[0m\u001b[0;34m)\u001b[0m\u001b[0;34m\u001b[0m\u001b[0;34m\u001b[0m\u001b[0m\n\u001b[0m\u001b[1;32m      3\u001b[0m \u001b[0;34m\u001b[0m\u001b[0m\n\u001b[1;32m      4\u001b[0m \u001b[0;31m# Calculate Annual Standard Deviation\u001b[0m\u001b[0;34m\u001b[0m\u001b[0;34m\u001b[0m\u001b[0;34m\u001b[0m\u001b[0m\n\u001b[1;32m      5\u001b[0m \u001b[0mall_annual_std\u001b[0m \u001b[0;34m=\u001b[0m \u001b[0mall_std\u001b[0m \u001b[0;34m*\u001b[0m \u001b[0mnp\u001b[0m\u001b[0;34m.\u001b[0m\u001b[0msqrt\u001b[0m\u001b[0;34m(\u001b[0m\u001b[0;36m252\u001b[0m\u001b[0;34m)\u001b[0m\u001b[0;34m\u001b[0m\u001b[0;34m\u001b[0m\u001b[0m\n",
      "\u001b[0;31mNameError\u001b[0m: name 'all_returns' is not defined"
     ]
    }
   ],
   "source": [
    "# Calculate Standard Deviation\n",
    "all_std = all_returns.std()\n",
    "\n",
    "# Calculate Annual Standard Deviation\n",
    "all_annual_std = all_std * np.sqrt(252)\n",
    "\n",
    "# Display Standard Deviation\n",
    "all_annual_std"
   ]
  },
  {
   "cell_type": "code",
   "execution_count": 20,
   "id": "bdfd0d09-cf34-4408-9584-f2798d953ed4",
   "metadata": {},
   "outputs": [
    {
     "ename": "NameError",
     "evalue": "name 'all_returns' is not defined",
     "output_type": "error",
     "traceback": [
      "\u001b[0;31m---------------------------------------------------------------------------\u001b[0m",
      "\u001b[0;31mNameError\u001b[0m                                 Traceback (most recent call last)",
      "\u001b[0;32m<ipython-input-20-268bf13797b1>\u001b[0m in \u001b[0;36m<module>\u001b[0;34m\u001b[0m\n\u001b[1;32m      1\u001b[0m \u001b[0;31m# Calculate Correlation\u001b[0m\u001b[0;34m\u001b[0m\u001b[0;34m\u001b[0m\u001b[0;34m\u001b[0m\u001b[0m\n\u001b[0;32m----> 2\u001b[0;31m \u001b[0mall_correlation\u001b[0m \u001b[0;34m=\u001b[0m \u001b[0mall_returns\u001b[0m\u001b[0;34m.\u001b[0m\u001b[0mcorr\u001b[0m\u001b[0;34m(\u001b[0m\u001b[0;34m)\u001b[0m\u001b[0;34m\u001b[0m\u001b[0;34m\u001b[0m\u001b[0m\n\u001b[0m",
      "\u001b[0;31mNameError\u001b[0m: name 'all_returns' is not defined"
     ]
    }
   ],
   "source": [
    "# Calculate Correlation\n",
    "all_correlation = all_returns.corr()"
   ]
  },
  {
   "cell_type": "code",
   "execution_count": 22,
   "id": "c7248b42-154b-4252-bd4f-0ad33ffbfa77",
   "metadata": {},
   "outputs": [
    {
     "ename": "NameError",
     "evalue": "name 'all_correlation' is not defined",
     "output_type": "error",
     "traceback": [
      "\u001b[0;31m---------------------------------------------------------------------------\u001b[0m",
      "\u001b[0;31mNameError\u001b[0m                                 Traceback (most recent call last)",
      "\u001b[0;32m<ipython-input-22-4b2f3207a12c>\u001b[0m in \u001b[0;36m<module>\u001b[0;34m\u001b[0m\n\u001b[1;32m      1\u001b[0m \u001b[0;31m# Plot Correlation\u001b[0m\u001b[0;34m\u001b[0m\u001b[0;34m\u001b[0m\u001b[0;34m\u001b[0m\u001b[0m\n\u001b[0;32m----> 2\u001b[0;31m \u001b[0msns\u001b[0m\u001b[0;34m.\u001b[0m\u001b[0mheatmap\u001b[0m\u001b[0;34m(\u001b[0m\u001b[0mall_correlation\u001b[0m\u001b[0;34m,\u001b[0m \u001b[0mvmin\u001b[0m \u001b[0;34m=\u001b[0m \u001b[0;34m-\u001b[0m\u001b[0;36m1\u001b[0m\u001b[0;34m,\u001b[0m \u001b[0mvmax\u001b[0m \u001b[0;34m=\u001b[0m \u001b[0;36m1\u001b[0m\u001b[0;34m,\u001b[0m \u001b[0mannot\u001b[0m \u001b[0;34m=\u001b[0m \u001b[0;32mTrue\u001b[0m\u001b[0;34m)\u001b[0m\u001b[0;34m\u001b[0m\u001b[0;34m\u001b[0m\u001b[0m\n\u001b[0m",
      "\u001b[0;31mNameError\u001b[0m: name 'all_correlation' is not defined"
     ]
    }
   ],
   "source": [
    "# Plot Correlation \n",
    "sns.heatmap(all_correlation, vmin = -1, vmax = 1, annot = True)"
   ]
  },
  {
   "cell_type": "code",
   "execution_count": 23,
   "id": "2dd29b52-308d-4c61-92e8-6790aaf3495e",
   "metadata": {},
   "outputs": [
    {
     "ename": "NameError",
     "evalue": "name 'all_returns' is not defined",
     "output_type": "error",
     "traceback": [
      "\u001b[0;31m---------------------------------------------------------------------------\u001b[0m",
      "\u001b[0;31mNameError\u001b[0m                                 Traceback (most recent call last)",
      "\u001b[0;32m<ipython-input-23-93c052e768cd>\u001b[0m in \u001b[0;36m<module>\u001b[0;34m\u001b[0m\n\u001b[0;32m----> 1\u001b[0;31m \u001b[0mbaba_spy_covar\u001b[0m \u001b[0;34m=\u001b[0m \u001b[0mall_returns\u001b[0m\u001b[0;34m[\u001b[0m\u001b[0;34m'BABA'\u001b[0m\u001b[0;34m]\u001b[0m\u001b[0;34m.\u001b[0m\u001b[0mrolling\u001b[0m\u001b[0;34m(\u001b[0m\u001b[0mwindow\u001b[0m \u001b[0;34m=\u001b[0m \u001b[0;36m60\u001b[0m\u001b[0;34m)\u001b[0m\u001b[0;34m.\u001b[0m\u001b[0mcov\u001b[0m\u001b[0;34m(\u001b[0m\u001b[0mall_returns\u001b[0m\u001b[0;34m[\u001b[0m\u001b[0;34m'SPY'\u001b[0m\u001b[0;34m]\u001b[0m\u001b[0;34m)\u001b[0m\u001b[0;34m\u001b[0m\u001b[0;34m\u001b[0m\u001b[0m\n\u001b[0m\u001b[1;32m      2\u001b[0m \u001b[0mdis_spy_covar\u001b[0m \u001b[0;34m=\u001b[0m \u001b[0mall_returns\u001b[0m\u001b[0;34m[\u001b[0m\u001b[0;34m'DIS'\u001b[0m\u001b[0;34m]\u001b[0m\u001b[0;34m.\u001b[0m\u001b[0mrolling\u001b[0m\u001b[0;34m(\u001b[0m\u001b[0mwindow\u001b[0m \u001b[0;34m=\u001b[0m \u001b[0;36m60\u001b[0m\u001b[0;34m)\u001b[0m\u001b[0;34m.\u001b[0m\u001b[0mcov\u001b[0m\u001b[0;34m(\u001b[0m\u001b[0mall_returns\u001b[0m\u001b[0;34m[\u001b[0m\u001b[0;34m'SPY'\u001b[0m\u001b[0;34m]\u001b[0m\u001b[0;34m)\u001b[0m\u001b[0;34m\u001b[0m\u001b[0;34m\u001b[0m\u001b[0m\n\u001b[1;32m      3\u001b[0m \u001b[0mtsla_spy_covar\u001b[0m \u001b[0;34m=\u001b[0m \u001b[0mall_returns\u001b[0m\u001b[0;34m[\u001b[0m\u001b[0;34m'TSLA'\u001b[0m\u001b[0;34m]\u001b[0m\u001b[0;34m.\u001b[0m\u001b[0mrolling\u001b[0m\u001b[0;34m(\u001b[0m\u001b[0mwindow\u001b[0m \u001b[0;34m=\u001b[0m \u001b[0;36m60\u001b[0m\u001b[0;34m)\u001b[0m\u001b[0;34m.\u001b[0m\u001b[0mcov\u001b[0m\u001b[0;34m(\u001b[0m\u001b[0mall_returns\u001b[0m\u001b[0;34m[\u001b[0m\u001b[0;34m'SPY'\u001b[0m\u001b[0;34m]\u001b[0m\u001b[0;34m)\u001b[0m\u001b[0;34m\u001b[0m\u001b[0;34m\u001b[0m\u001b[0m\n\u001b[1;32m      4\u001b[0m \u001b[0methe_spy_covar\u001b[0m \u001b[0;34m=\u001b[0m \u001b[0mall_returns\u001b[0m\u001b[0;34m[\u001b[0m\u001b[0;34m'ETHE'\u001b[0m\u001b[0;34m]\u001b[0m\u001b[0;34m.\u001b[0m\u001b[0mrolling\u001b[0m\u001b[0;34m(\u001b[0m\u001b[0mwindow\u001b[0m \u001b[0;34m=\u001b[0m \u001b[0;36m60\u001b[0m\u001b[0;34m)\u001b[0m\u001b[0;34m.\u001b[0m\u001b[0mcov\u001b[0m\u001b[0;34m(\u001b[0m\u001b[0mall_returns\u001b[0m\u001b[0;34m[\u001b[0m\u001b[0;34m'SPY'\u001b[0m\u001b[0;34m]\u001b[0m\u001b[0;34m)\u001b[0m\u001b[0;34m\u001b[0m\u001b[0;34m\u001b[0m\u001b[0m\n",
      "\u001b[0;31mNameError\u001b[0m: name 'all_returns' is not defined"
     ]
    }
   ],
   "source": [
    "# Calculate Covariance\n",
    "baba_spy_covar = all_returns['BABA'].rolling(window = 60).cov(all_returns['SPY'])\n",
    "dis_spy_covar = all_returns['DIS'].rolling(window = 60).cov(all_returns['SPY'])\n",
    "tsla_spy_covar = all_returns['TSLA'].rolling(window = 60).cov(all_returns['SPY'])\n",
    "ethe_spy_covar = all_returns['ETHE'].rolling(window = 60).cov(all_returns['SPY'])"
   ]
  },
  {
   "cell_type": "code",
   "execution_count": 24,
   "id": "0c58c171-01c3-4ee2-b472-482e412013ae",
   "metadata": {},
   "outputs": [
    {
     "ename": "NameError",
     "evalue": "name 'all_returns' is not defined",
     "output_type": "error",
     "traceback": [
      "\u001b[0;31m---------------------------------------------------------------------------\u001b[0m",
      "\u001b[0;31mNameError\u001b[0m                                 Traceback (most recent call last)",
      "\u001b[0;32m<ipython-input-24-94d66510c94e>\u001b[0m in \u001b[0;36m<module>\u001b[0;34m\u001b[0m\n\u001b[1;32m      1\u001b[0m \u001b[0;31m# Calculate Variance\u001b[0m\u001b[0;34m\u001b[0m\u001b[0;34m\u001b[0m\u001b[0;34m\u001b[0m\u001b[0m\n\u001b[0;32m----> 2\u001b[0;31m \u001b[0mbaba_spy_var\u001b[0m \u001b[0;34m=\u001b[0m \u001b[0mall_returns\u001b[0m\u001b[0;34m[\u001b[0m\u001b[0;34m'SPY'\u001b[0m\u001b[0;34m]\u001b[0m\u001b[0;34m.\u001b[0m\u001b[0mrolling\u001b[0m\u001b[0;34m(\u001b[0m\u001b[0mwindow\u001b[0m \u001b[0;34m=\u001b[0m \u001b[0;36m60\u001b[0m\u001b[0;34m)\u001b[0m\u001b[0;34m.\u001b[0m\u001b[0mvar\u001b[0m\u001b[0;34m(\u001b[0m\u001b[0;34m)\u001b[0m\u001b[0;34m\u001b[0m\u001b[0;34m\u001b[0m\u001b[0m\n\u001b[0m\u001b[1;32m      3\u001b[0m \u001b[0mdis_spy_var\u001b[0m \u001b[0;34m=\u001b[0m \u001b[0mall_returns\u001b[0m\u001b[0;34m[\u001b[0m\u001b[0;34m'SPY'\u001b[0m\u001b[0;34m]\u001b[0m\u001b[0;34m.\u001b[0m\u001b[0mrolling\u001b[0m\u001b[0;34m(\u001b[0m\u001b[0mwindow\u001b[0m \u001b[0;34m=\u001b[0m \u001b[0;36m60\u001b[0m\u001b[0;34m)\u001b[0m\u001b[0;34m.\u001b[0m\u001b[0mvar\u001b[0m\u001b[0;34m(\u001b[0m\u001b[0;34m)\u001b[0m\u001b[0;34m\u001b[0m\u001b[0;34m\u001b[0m\u001b[0m\n\u001b[1;32m      4\u001b[0m \u001b[0mtsla_spy_var\u001b[0m \u001b[0;34m=\u001b[0m \u001b[0mall_returns\u001b[0m\u001b[0;34m[\u001b[0m\u001b[0;34m'SPY'\u001b[0m\u001b[0;34m]\u001b[0m\u001b[0;34m.\u001b[0m\u001b[0mrolling\u001b[0m\u001b[0;34m(\u001b[0m\u001b[0mwindow\u001b[0m \u001b[0;34m=\u001b[0m \u001b[0;36m60\u001b[0m\u001b[0;34m)\u001b[0m\u001b[0;34m.\u001b[0m\u001b[0mvar\u001b[0m\u001b[0;34m(\u001b[0m\u001b[0;34m)\u001b[0m\u001b[0;34m\u001b[0m\u001b[0;34m\u001b[0m\u001b[0m\n\u001b[1;32m      5\u001b[0m \u001b[0methe_spy_var\u001b[0m \u001b[0;34m=\u001b[0m \u001b[0mall_returns\u001b[0m\u001b[0;34m[\u001b[0m\u001b[0;34m'SPY'\u001b[0m\u001b[0;34m]\u001b[0m\u001b[0;34m.\u001b[0m\u001b[0mrolling\u001b[0m\u001b[0;34m(\u001b[0m\u001b[0mwindow\u001b[0m \u001b[0;34m=\u001b[0m \u001b[0;36m60\u001b[0m\u001b[0;34m)\u001b[0m\u001b[0;34m.\u001b[0m\u001b[0mvar\u001b[0m\u001b[0;34m(\u001b[0m\u001b[0;34m)\u001b[0m\u001b[0;34m\u001b[0m\u001b[0;34m\u001b[0m\u001b[0m\n",
      "\u001b[0;31mNameError\u001b[0m: name 'all_returns' is not defined"
     ]
    }
   ],
   "source": [
    "# Calculate Variance\n",
    "baba_spy_var = all_returns['SPY'].rolling(window = 60).var()\n",
    "dis_spy_var = all_returns['SPY'].rolling(window = 60).var()\n",
    "tsla_spy_var = all_returns['SPY'].rolling(window = 60).var()\n",
    "ethe_spy_var = all_returns['SPY'].rolling(window = 60).var()"
   ]
  },
  {
   "cell_type": "code",
   "execution_count": 26,
   "id": "029faa37-c61b-46a7-b234-a8432f40aa8c",
   "metadata": {},
   "outputs": [
    {
     "ename": "NameError",
     "evalue": "name 'baba_spy_covar' is not defined",
     "output_type": "error",
     "traceback": [
      "\u001b[0;31m---------------------------------------------------------------------------\u001b[0m",
      "\u001b[0;31mNameError\u001b[0m                                 Traceback (most recent call last)",
      "\u001b[0;32m<ipython-input-26-62229a794240>\u001b[0m in \u001b[0;36m<module>\u001b[0;34m\u001b[0m\n\u001b[1;32m      1\u001b[0m \u001b[0;31m# Calculate Beta\u001b[0m\u001b[0;34m\u001b[0m\u001b[0;34m\u001b[0m\u001b[0;34m\u001b[0m\u001b[0m\n\u001b[0;32m----> 2\u001b[0;31m \u001b[0mbaba_beta\u001b[0m \u001b[0;34m=\u001b[0m \u001b[0mbaba_spy_covar\u001b[0m \u001b[0;34m/\u001b[0m \u001b[0mbaba_spy_var\u001b[0m\u001b[0;34m\u001b[0m\u001b[0;34m\u001b[0m\u001b[0m\n\u001b[0m\u001b[1;32m      3\u001b[0m \u001b[0mdis_beta\u001b[0m \u001b[0;34m=\u001b[0m \u001b[0mdis_spy_covar\u001b[0m \u001b[0;34m/\u001b[0m \u001b[0mdis_spy_var\u001b[0m\u001b[0;34m\u001b[0m\u001b[0;34m\u001b[0m\u001b[0m\n\u001b[1;32m      4\u001b[0m \u001b[0mtsla_beta\u001b[0m \u001b[0;34m=\u001b[0m \u001b[0mtsla_spy_covar\u001b[0m \u001b[0;34m/\u001b[0m \u001b[0mtsla_spy_var\u001b[0m\u001b[0;34m\u001b[0m\u001b[0;34m\u001b[0m\u001b[0m\n\u001b[1;32m      5\u001b[0m \u001b[0methe_beta\u001b[0m \u001b[0;34m=\u001b[0m \u001b[0methe_spy_covar\u001b[0m \u001b[0;34m/\u001b[0m \u001b[0methe_spy_var\u001b[0m\u001b[0;34m\u001b[0m\u001b[0;34m\u001b[0m\u001b[0m\n",
      "\u001b[0;31mNameError\u001b[0m: name 'baba_spy_covar' is not defined"
     ]
    }
   ],
   "source": [
    "# Calculate Beta\n",
    "baba_beta = baba_spy_covar / baba_spy_var\n",
    "dis_beta = dis_spy_covar / dis_spy_var\n",
    "tsla_beta = tsla_spy_covar / tsla_spy_var\n",
    "ethe_beta = ethe_spy_covar / ethe_spy_var\n",
    "combined_beta = baba_beta + dis_beta + tsla_beta +ethe_beta"
   ]
  },
  {
   "cell_type": "code",
   "execution_count": 27,
   "id": "3b1ac544-6a5a-4532-92a8-96cc370fc1a1",
   "metadata": {},
   "outputs": [
    {
     "ename": "NameError",
     "evalue": "name 'combined_beta' is not defined",
     "output_type": "error",
     "traceback": [
      "\u001b[0;31m---------------------------------------------------------------------------\u001b[0m",
      "\u001b[0;31mNameError\u001b[0m                                 Traceback (most recent call last)",
      "\u001b[0;32m<ipython-input-27-ae8b3f39e5d8>\u001b[0m in \u001b[0;36m<module>\u001b[0;34m\u001b[0m\n\u001b[1;32m      1\u001b[0m \u001b[0;31m# Plot Beta\u001b[0m\u001b[0;34m\u001b[0m\u001b[0;34m\u001b[0m\u001b[0;34m\u001b[0m\u001b[0m\n\u001b[0;32m----> 2\u001b[0;31m \u001b[0mbeta_plot\u001b[0m \u001b[0;34m=\u001b[0m \u001b[0mcombined_beta\u001b[0m\u001b[0;34m.\u001b[0m\u001b[0mplot\u001b[0m\u001b[0;34m(\u001b[0m\u001b[0mtitle\u001b[0m\u001b[0;34m=\u001b[0m \u001b[0;34m\"60 Day Beta\"\u001b[0m\u001b[0;34m,\u001b[0m \u001b[0mfigsize\u001b[0m\u001b[0;34m=\u001b[0m\u001b[0;34m(\u001b[0m\u001b[0;36m20\u001b[0m\u001b[0;34m,\u001b[0m \u001b[0;36m10\u001b[0m\u001b[0;34m)\u001b[0m\u001b[0;34m)\u001b[0m\u001b[0;34m\u001b[0m\u001b[0;34m\u001b[0m\u001b[0m\n\u001b[0m\u001b[1;32m      3\u001b[0m \u001b[0mbab_beta_plot\u001b[0m\u001b[0;34m.\u001b[0m\u001b[0mlegend\u001b[0m\u001b[0;34m(\u001b[0m\u001b[0;34m[\u001b[0m\u001b[0;34m\"BABA\"\u001b[0m\u001b[0;34m,\u001b[0m \u001b[0;34m\"DIS\"\u001b[0m\u001b[0;34m,\u001b[0m \u001b[0;34m\"TSLA\"\u001b[0m\u001b[0;34m,\u001b[0m \u001b[0;34m\"ETHE\"\u001b[0m\u001b[0;34m]\u001b[0m\u001b[0;34m)\u001b[0m\u001b[0;34m\u001b[0m\u001b[0;34m\u001b[0m\u001b[0m\n",
      "\u001b[0;31mNameError\u001b[0m: name 'combined_beta' is not defined"
     ]
    }
   ],
   "source": [
    "# Plot Beta\n",
    "beta_plot = combined_beta.plot(title= \"60 Day Beta\", figsize=(20, 10))\n",
    "bab_beta_plot.legend([\"BABA\", \"DIS\", \"TSLA\", \"ETHE\"])"
   ]
  },
  {
   "cell_type": "code",
   "execution_count": 28,
   "id": "65186380-dd27-4e6a-8f1d-b9601c2f98c7",
   "metadata": {},
   "outputs": [
    {
     "ename": "NameError",
     "evalue": "name 'all_returns' is not defined",
     "output_type": "error",
     "traceback": [
      "\u001b[0;31m---------------------------------------------------------------------------\u001b[0m",
      "\u001b[0;31mNameError\u001b[0m                                 Traceback (most recent call last)",
      "\u001b[0;32m<ipython-input-28-3291ea144ada>\u001b[0m in \u001b[0;36m<module>\u001b[0;34m\u001b[0m\n\u001b[1;32m      1\u001b[0m \u001b[0;31m# Calculate the Sharpe Ratio\u001b[0m\u001b[0;34m\u001b[0m\u001b[0;34m\u001b[0m\u001b[0;34m\u001b[0m\u001b[0m\n\u001b[0;32m----> 2\u001b[0;31m \u001b[0mall_sharpe_ratios\u001b[0m \u001b[0;34m=\u001b[0m \u001b[0;34m(\u001b[0m\u001b[0mall_returns\u001b[0m\u001b[0;34m.\u001b[0m\u001b[0mmean\u001b[0m\u001b[0;34m(\u001b[0m\u001b[0;34m)\u001b[0m \u001b[0;34m*\u001b[0m \u001b[0;36m252\u001b[0m\u001b[0;34m)\u001b[0m \u001b[0;34m/\u001b[0m \u001b[0;34m(\u001b[0m\u001b[0mall_returns\u001b[0m\u001b[0;34m.\u001b[0m\u001b[0mstd\u001b[0m\u001b[0;34m(\u001b[0m\u001b[0;34m)\u001b[0m \u001b[0;34m*\u001b[0m \u001b[0mnp\u001b[0m\u001b[0;34m.\u001b[0m\u001b[0msqrt\u001b[0m\u001b[0;34m(\u001b[0m\u001b[0;36m252\u001b[0m\u001b[0;34m)\u001b[0m\u001b[0;34m)\u001b[0m\u001b[0;34m\u001b[0m\u001b[0;34m\u001b[0m\u001b[0m\n\u001b[0m",
      "\u001b[0;31mNameError\u001b[0m: name 'all_returns' is not defined"
     ]
    }
   ],
   "source": [
    "# Calculate the Sharpe Ratio\n",
    "all_sharpe_ratios = (all_returns.mean() * 252) / (all_returns.std() * np.sqrt(252))\n"
   ]
  },
  {
   "cell_type": "code",
   "execution_count": 29,
   "id": "f434ee5e-0f23-4b72-b860-e27e02dcf514",
   "metadata": {},
   "outputs": [
    {
     "ename": "NameError",
     "evalue": "name 'all_sharpe_ratios' is not defined",
     "output_type": "error",
     "traceback": [
      "\u001b[0;31m---------------------------------------------------------------------------\u001b[0m",
      "\u001b[0;31mNameError\u001b[0m                                 Traceback (most recent call last)",
      "\u001b[0;32m<ipython-input-29-a83e16ab6478>\u001b[0m in \u001b[0;36m<module>\u001b[0;34m\u001b[0m\n\u001b[1;32m      1\u001b[0m \u001b[0;31m# Plot Sharpe Ratio\u001b[0m\u001b[0;34m\u001b[0m\u001b[0;34m\u001b[0m\u001b[0;34m\u001b[0m\u001b[0m\n\u001b[0;32m----> 2\u001b[0;31m \u001b[0mall_sharpe_ratios\u001b[0m\u001b[0;34m.\u001b[0m\u001b[0mplot\u001b[0m\u001b[0;34m(\u001b[0m\u001b[0mkind\u001b[0m \u001b[0;34m=\u001b[0m \u001b[0;34m\"bar\"\u001b[0m\u001b[0;34m,\u001b[0m \u001b[0mtitle\u001b[0m \u001b[0;34m=\u001b[0m \u001b[0;34m\"Sharpe Ratio\"\u001b[0m\u001b[0;34m)\u001b[0m\u001b[0;34m\u001b[0m\u001b[0;34m\u001b[0m\u001b[0m\n\u001b[0m",
      "\u001b[0;31mNameError\u001b[0m: name 'all_sharpe_ratios' is not defined"
     ]
    }
   ],
   "source": [
    "# Plot Sharpe Ratio\n",
    "all_sharpe_ratios.plot(kind = \"bar\", title = \"Sharpe Ratio\")"
   ]
  },
  {
   "cell_type": "code",
   "execution_count": null,
   "id": "7bffe1c5-6dd9-4dc5-a616-6b2fec7e8d57",
   "metadata": {},
   "outputs": [],
   "source": []
  }
 ],
 "metadata": {
  "kernelspec": {
   "display_name": "Python 3",
   "language": "python",
   "name": "python3"
  },
  "language_info": {
   "codemirror_mode": {
    "name": "ipython",
    "version": 3
   },
   "file_extension": ".py",
   "mimetype": "text/x-python",
   "name": "python",
   "nbconvert_exporter": "python",
   "pygments_lexer": "ipython3",
   "version": "3.8.8"
  }
 },
 "nbformat": 4,
 "nbformat_minor": 5
}
