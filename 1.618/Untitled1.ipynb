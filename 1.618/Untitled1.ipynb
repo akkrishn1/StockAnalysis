{
 "cells": [
  {
   "cell_type": "code",
   "execution_count": 3,
   "metadata": {},
   "outputs": [],
   "source": [
    "# Initial imports\n",
    "from MCForecastTools import MCSimulation\n",
    "\n",
    "%matplotlib inline\n",
    "import os\n",
    "import pandas as pd\n",
    "import numpy as np\n",
    "import seaborn as sns\n",
    "import alpaca_trade_api as tradeapi\n",
    "import matplotlib.pyplot as plt\n",
    "import time\n",
    "import datetime as dt\n",
    "import pandas_datareader.data as web \n"
   ]
  },
  {
   "cell_type": "code",
   "execution_count": 4,
   "metadata": {},
   "outputs": [],
   "source": [
    "start = dt.datetime(2016, 5, 24)\n",
    "end = dt.datetime(2021, 5, 24)"
   ]
  },
  {
   "cell_type": "code",
   "execution_count": 5,
   "metadata": {},
   "outputs": [],
   "source": [
    "eth = web.DataReader(['ETH-USD'], 'yahoo', start, end)\n",
    "eth.columns= eth.columns.swaplevel(0, 1)\n",
    "eth.rename(columns= {'Close': 'close'}, inplace=True)\n",
    "eth.sort_index(axis= 1, level=1, inplace=True)\n",
    "\n",
    "data_dis = web.DataReader(['DIS'], 'yahoo', start, end)\n",
    "data_dis.columns= data_dis.columns.swaplevel(0, 1)\n",
    "data_dis.rename(columns= {'Close': 'close'}, inplace=True)\n",
    "data_dis.sort_index(axis= 1, level=1, inplace=True)\n",
    "\n",
    "data_baba = web.DataReader(['BABA'], 'yahoo', start, end)\n",
    "data_baba.columns= data_baba.columns.swaplevel(0, 1)\n",
    "data_baba.rename(columns= {'Close': 'close'}, inplace=True)\n",
    "data_baba.sort_index(axis= 1, level=1, inplace=True)\n",
    "\n",
    "data_spy = web.DataReader(['SPY'], 'yahoo', start, end)\n",
    "data_spy.columns= data_spy.columns.swaplevel(0, 1)\n",
    "data_spy.rename(columns= {'Close': 'close'}, inplace=True)\n",
    "data_spy.sort_index(axis= 1, level=1, inplace=True)\n",
    "\n",
    "data_tsla = web.DataReader(['TSLA'], 'yahoo', start, end)\n",
    "data_tsla.columns= data_tsla.columns.swaplevel(0, 1)\n",
    "data_tsla.rename(columns= {'Close': 'close'}, inplace=True)\n",
    "data_tsla.sort_index(axis= 1, level=1, inplace=True)\n",
    "\n"
   ]
  },
  {
   "cell_type": "code",
   "execution_count": 6,
   "metadata": {},
   "outputs": [
    {
     "data": {
      "text/html": [
       "<div>\n",
       "<style scoped>\n",
       "    .dataframe tbody tr th:only-of-type {\n",
       "        vertical-align: middle;\n",
       "    }\n",
       "\n",
       "    .dataframe tbody tr th {\n",
       "        vertical-align: top;\n",
       "    }\n",
       "\n",
       "    .dataframe thead th {\n",
       "        text-align: right;\n",
       "    }\n",
       "</style>\n",
       "<table border=\"1\" class=\"dataframe\">\n",
       "  <thead>\n",
       "    <tr style=\"text-align: right;\">\n",
       "      <th></th>\n",
       "      <th>BABA</th>\n",
       "      <th>SPY</th>\n",
       "      <th>DIS</th>\n",
       "      <th>TSLA</th>\n",
       "    </tr>\n",
       "  </thead>\n",
       "  <tbody>\n",
       "    <tr>\n",
       "      <th>2016-05-25</th>\n",
       "      <td>-0.068171</td>\n",
       "      <td>0.006783</td>\n",
       "      <td>0.003517</td>\n",
       "      <td>0.007664</td>\n",
       "    </tr>\n",
       "    <tr>\n",
       "      <th>2016-05-26</th>\n",
       "      <td>0.036513</td>\n",
       "      <td>0.000287</td>\n",
       "      <td>-0.000501</td>\n",
       "      <td>0.025230</td>\n",
       "    </tr>\n",
       "    <tr>\n",
       "      <th>2016-05-27</th>\n",
       "      <td>0.033440</td>\n",
       "      <td>0.004299</td>\n",
       "      <td>0.004809</td>\n",
       "      <td>-0.009239</td>\n",
       "    </tr>\n",
       "    <tr>\n",
       "      <th>2016-05-31</th>\n",
       "      <td>0.012721</td>\n",
       "      <td>-0.001903</td>\n",
       "      <td>-0.010669</td>\n",
       "      <td>0.000852</td>\n",
       "    </tr>\n",
       "    <tr>\n",
       "      <th>2016-06-01</th>\n",
       "      <td>-0.064756</td>\n",
       "      <td>0.002049</td>\n",
       "      <td>-0.007055</td>\n",
       "      <td>-0.016440</td>\n",
       "    </tr>\n",
       "  </tbody>\n",
       "</table>\n",
       "</div>"
      ],
      "text/plain": [
       "                BABA       SPY       DIS      TSLA\n",
       "2016-05-25 -0.068171  0.006783  0.003517  0.007664\n",
       "2016-05-26  0.036513  0.000287 -0.000501  0.025230\n",
       "2016-05-27  0.033440  0.004299  0.004809 -0.009239\n",
       "2016-05-31  0.012721 -0.001903 -0.010669  0.000852\n",
       "2016-06-01 -0.064756  0.002049 -0.007055 -0.016440"
      ]
     },
     "execution_count": 6,
     "metadata": {},
     "output_type": "execute_result"
    }
   ],
   "source": [
    "# Create and empty DataFrame for closing prices\n",
    "all_closing_prices = pd.DataFrame()\n",
    "\n",
    "# Fetch the closing prices \n",
    "all_closing_prices[\"BABA\"] = data_baba[\"BABA\"][\"close\"]\n",
    "all_closing_prices[\"SPY\"] = data_spy[\"SPY\"][\"close\"]\n",
    "all_closing_prices[\"DIS\"] = data_dis[\"DIS\"][\"close\"]\n",
    "all_closing_prices[\"TSLA\"] = data_tsla[\"TSLA\"][\"close\"]\n",
    "\n",
    "\n",
    "\n",
    "# Drop the time component of the date\n",
    "all_closing_prices.index = all_closing_prices.index.date\n",
    "\n",
    "# Compute daily returns\n",
    "all_returns = all_closing_prices.pct_change().dropna()\n",
    "\n",
    "# Display\n",
    "all_returns.head()"
   ]
  },
  {
   "cell_type": "code",
   "execution_count": 20,
   "metadata": {},
   "outputs": [
    {
     "data": {
      "text/html": [
       "<div>\n",
       "<style scoped>\n",
       "    .dataframe tbody tr th:only-of-type {\n",
       "        vertical-align: middle;\n",
       "    }\n",
       "\n",
       "    .dataframe tbody tr th {\n",
       "        vertical-align: top;\n",
       "    }\n",
       "\n",
       "    .dataframe thead th {\n",
       "        text-align: right;\n",
       "    }\n",
       "</style>\n",
       "<table border=\"1\" class=\"dataframe\">\n",
       "  <thead>\n",
       "    <tr style=\"text-align: right;\">\n",
       "      <th></th>\n",
       "      <th>ETH-USD</th>\n",
       "    </tr>\n",
       "  </thead>\n",
       "  <tbody>\n",
       "    <tr>\n",
       "      <th>2016-05-23</th>\n",
       "      <td>12.732300</td>\n",
       "    </tr>\n",
       "    <tr>\n",
       "      <th>2016-05-24</th>\n",
       "      <td>12.526000</td>\n",
       "    </tr>\n",
       "    <tr>\n",
       "      <th>2016-05-25</th>\n",
       "      <td>12.430400</td>\n",
       "    </tr>\n",
       "    <tr>\n",
       "      <th>2016-05-26</th>\n",
       "      <td>11.295800</td>\n",
       "    </tr>\n",
       "    <tr>\n",
       "      <th>2016-05-27</th>\n",
       "      <td>11.892900</td>\n",
       "    </tr>\n",
       "    <tr>\n",
       "      <th>...</th>\n",
       "      <td>...</td>\n",
       "    </tr>\n",
       "    <tr>\n",
       "      <th>2021-05-20</th>\n",
       "      <td>2430.621338</td>\n",
       "    </tr>\n",
       "    <tr>\n",
       "      <th>2021-05-21</th>\n",
       "      <td>2295.705566</td>\n",
       "    </tr>\n",
       "    <tr>\n",
       "      <th>2021-05-22</th>\n",
       "      <td>2109.579834</td>\n",
       "    </tr>\n",
       "    <tr>\n",
       "      <th>2021-05-23</th>\n",
       "      <td>2643.591064</td>\n",
       "    </tr>\n",
       "    <tr>\n",
       "      <th>2021-05-24</th>\n",
       "      <td>2706.628906</td>\n",
       "    </tr>\n",
       "  </tbody>\n",
       "</table>\n",
       "<p>1824 rows × 1 columns</p>\n",
       "</div>"
      ],
      "text/plain": [
       "                ETH-USD\n",
       "2016-05-23    12.732300\n",
       "2016-05-24    12.526000\n",
       "2016-05-25    12.430400\n",
       "2016-05-26    11.295800\n",
       "2016-05-27    11.892900\n",
       "...                 ...\n",
       "2021-05-20  2430.621338\n",
       "2021-05-21  2295.705566\n",
       "2021-05-22  2109.579834\n",
       "2021-05-23  2643.591064\n",
       "2021-05-24  2706.628906\n",
       "\n",
       "[1824 rows x 1 columns]"
      ]
     },
     "execution_count": 20,
     "metadata": {},
     "output_type": "execute_result"
    }
   ],
   "source": [
    "eth_cl = pd.DataFrame()\n",
    "\n",
    "\n",
    "# Fetch the closing prices \n",
    "eth_cl[\"ETH-USD\"] = eth[\"ETH-USD\"][\"close\"]\n",
    "\n",
    "# Drop the time component of the date\n",
    "eth_cl.index = eth_cl.index.date\n",
    "\n",
    "eth_cl"
   ]
  },
  {
   "cell_type": "code",
   "execution_count": 14,
   "metadata": {},
   "outputs": [
    {
     "data": {
      "text/html": [
       "<div>\n",
       "<style scoped>\n",
       "    .dataframe tbody tr th:only-of-type {\n",
       "        vertical-align: middle;\n",
       "    }\n",
       "\n",
       "    .dataframe tbody tr th {\n",
       "        vertical-align: top;\n",
       "    }\n",
       "\n",
       "    .dataframe thead th {\n",
       "        text-align: right;\n",
       "    }\n",
       "</style>\n",
       "<table border=\"1\" class=\"dataframe\">\n",
       "  <thead>\n",
       "    <tr style=\"text-align: right;\">\n",
       "      <th></th>\n",
       "      <th>ETH-USD</th>\n",
       "      <th>BABA</th>\n",
       "      <th>SPY</th>\n",
       "      <th>DIS</th>\n",
       "      <th>TSLA</th>\n",
       "    </tr>\n",
       "  </thead>\n",
       "  <tbody>\n",
       "    <tr>\n",
       "      <th>2016-05-25</th>\n",
       "      <td>12.4304</td>\n",
       "      <td>-0.068171</td>\n",
       "      <td>0.006783</td>\n",
       "      <td>0.003517</td>\n",
       "      <td>0.007664</td>\n",
       "    </tr>\n",
       "    <tr>\n",
       "      <th>2016-05-26</th>\n",
       "      <td>11.2958</td>\n",
       "      <td>0.036513</td>\n",
       "      <td>0.000287</td>\n",
       "      <td>-0.000501</td>\n",
       "      <td>0.025230</td>\n",
       "    </tr>\n",
       "    <tr>\n",
       "      <th>2016-05-27</th>\n",
       "      <td>11.8929</td>\n",
       "      <td>0.033440</td>\n",
       "      <td>0.004299</td>\n",
       "      <td>0.004809</td>\n",
       "      <td>-0.009239</td>\n",
       "    </tr>\n",
       "    <tr>\n",
       "      <th>2016-05-31</th>\n",
       "      <td>14.0015</td>\n",
       "      <td>0.012721</td>\n",
       "      <td>-0.001903</td>\n",
       "      <td>-0.010669</td>\n",
       "      <td>0.000852</td>\n",
       "    </tr>\n",
       "    <tr>\n",
       "      <th>2016-06-01</th>\n",
       "      <td>13.7380</td>\n",
       "      <td>-0.064756</td>\n",
       "      <td>0.002049</td>\n",
       "      <td>-0.007055</td>\n",
       "      <td>-0.016440</td>\n",
       "    </tr>\n",
       "  </tbody>\n",
       "</table>\n",
       "</div>"
      ],
      "text/plain": [
       "            ETH-USD      BABA       SPY       DIS      TSLA\n",
       "2016-05-25  12.4304 -0.068171  0.006783  0.003517  0.007664\n",
       "2016-05-26  11.2958  0.036513  0.000287 -0.000501  0.025230\n",
       "2016-05-27  11.8929  0.033440  0.004299  0.004809 -0.009239\n",
       "2016-05-31  14.0015  0.012721 -0.001903 -0.010669  0.000852\n",
       "2016-06-01  13.7380 -0.064756  0.002049 -0.007055 -0.016440"
      ]
     },
     "execution_count": 14,
     "metadata": {},
     "output_type": "execute_result"
    }
   ],
   "source": [
    "\n",
    "results = pd.concat([eth_cl, all_returns], axis= 1, join = 'inner')\n",
    "results.rename(columns= {'Close': 'close'}, inplace=True)\n",
    "results.head()"
   ]
  },
  {
   "cell_type": "code",
   "execution_count": 15,
   "metadata": {},
   "outputs": [
    {
     "data": {
      "text/plain": [
       "ETH-USD    0\n",
       "BABA       0\n",
       "SPY        0\n",
       "DIS        0\n",
       "TSLA       0\n",
       "dtype: int64"
      ]
     },
     "execution_count": 15,
     "metadata": {},
     "output_type": "execute_result"
    }
   ],
   "source": [
    "results.isnull().sum()"
   ]
  },
  {
   "cell_type": "code",
   "execution_count": 25,
   "metadata": {},
   "outputs": [
    {
     "data": {
      "text/plain": [
       "<AxesSubplot:ylabel='Density'>"
      ]
     },
     "execution_count": 25,
     "metadata": {},
     "output_type": "execute_result"
    },
    {
     "data": {
      "image/png": "[encoded data removed]",
      "text/plain": [
       "<Figure size 432x288 with 1 Axes>"
      ]
     },
     "metadata": {
      "needs_background": "light"
     },
     "output_type": "display_data"
    }
   ],
   "source": [
    "results.plot.density()"
   ]
  },
  {
   "cell_type": "code",
   "execution_count": 24,
   "metadata": {},
   "outputs": [
    {
     "data": {
      "text/plain": [
       "<AxesSubplot:title={'center':'Cumulative Returns'}>"
      ]
     },
     "execution_count": 24,
     "metadata": {},
     "output_type": "execute_result"
    },
    {
     "data": {
      "image/png": "[encoded data removed]",
      "text/plain": [
       "<Figure size 1440x720 with 1 Axes>"
      ]
     },
     "metadata": {
      "needs_background": "light"
     },
     "output_type": "display_data"
    }
   ],
   "source": [
    "# Calculate Cumulative Returns\n",
    "all_c = (1 + results).cumprod()\n",
    "\n",
    "# Plot Cummulative Returns\n",
    "results.plot(title = 'Cumulative Returns', figsize = (20,10) )"
   ]
  },
  {
   "cell_type": "code",
   "execution_count": 26,
   "metadata": {},
   "outputs": [
    {
     "data": {
      "text/plain": [
       "ETH-USD    8908.074065\n",
       "BABA          0.339044\n",
       "SPY           0.188694\n",
       "DIS           0.282302\n",
       "TSLA          0.593582\n",
       "dtype: float64"
      ]
     },
     "execution_count": 26,
     "metadata": {},
     "output_type": "execute_result"
    }
   ],
   "source": [
    "# Calculate Standard Deviation\n",
    "all_std = results.std()\n",
    "\n",
    "# Calculate Annual Standard Deviation\n",
    "all_annual_std = all_std * np.sqrt(252)\n",
    "\n",
    "# Display Standard Deviation\n",
    "all_annual_std"
   ]
  },
  {
   "cell_type": "code",
   "execution_count": 28,
   "metadata": {},
   "outputs": [],
   "source": [
    "# Calculate Correlation\n",
    "all_correlation = results.corr()"
   ]
  },
  {
   "cell_type": "code",
   "execution_count": 29,
   "metadata": {},
   "outputs": [
    {
     "data": {
      "text/plain": [
       "<AxesSubplot:>"
      ]
     },
     "execution_count": 29,
     "metadata": {},
     "output_type": "execute_result"
    },
    {
     "data": {
      "image/png": "[encoded data removed]",
      "text/plain": [
       "<Figure size 432x288 with 2 Axes>"
      ]
     },
     "metadata": {
      "needs_background": "light"
     },
     "output_type": "display_data"
    }
   ],
   "source": [
    "# Plot Correlation \n",
    "sns.heatmap(all_correlation, vmin = -1, vmax = 1, annot = True)"
   ]
  },
  {
   "cell_type": "code",
   "execution_count": null,
   "metadata": {},
   "outputs": [],
   "source": []
  }
 ],
 "metadata": {
  "kernelspec": {
   "display_name": "Python 3",
   "language": "python",
   "name": "python3"
  },
  "language_info": {
   "codemirror_mode": {
    "name": "ipython",
    "version": 3
   },
   "file_extension": ".py",
   "mimetype": "text/x-python",
   "name": "python",
   "nbconvert_exporter": "python",
   "pygments_lexer": "ipython3",
   "version": "3.8.5"
  }
 },
 "nbformat": 4,
 "nbformat_minor": 4
}
